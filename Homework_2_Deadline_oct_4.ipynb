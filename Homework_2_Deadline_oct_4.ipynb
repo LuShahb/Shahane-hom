{
 "cells": [
  {
   "cell_type": "markdown",
   "metadata": {},
   "source": [
    "Ex1"
   ]
  },
  {
   "cell_type": "code",
   "execution_count": 50,
   "metadata": {},
   "outputs": [
    {
     "name": "stdout",
     "output_type": "stream",
     "text": [
      "8\n",
      "(1, 2)\n"
     ]
    }
   ],
   "source": [
    "list1 = [3, 6, True, -1, \"abc\", (1,2), [2,3], 6]\n",
    "print(len(list1))\n",
    "for i in range(len(list1)):\n",
    "    if type(list1[i])==tuple:\n",
    "        print(list1[i])\n",
    "        break\n",
    "    "
   ]
  },
  {
   "cell_type": "code",
   "execution_count": 51,
   "metadata": {},
   "outputs": [
    {
     "name": "stdout",
     "output_type": "stream",
     "text": [
      "8\n",
      "3\n",
      "6\n",
      "True\n",
      "-1\n",
      "abc\n"
     ]
    }
   ],
   "source": [
    "list1 = [3, 6, True, -1, \"abc\", (1,2), [2,3], 6]\n",
    "print(len(list1))\n",
    "for i in range(len(list1)):\n",
    "    if type(list1[i])==tuple:\n",
    "        break\n",
    "    print(list1[i])\n",
    "    "
   ]
  },
  {
   "cell_type": "markdown",
   "metadata": {},
   "source": [
    "Ex2"
   ]
  },
  {
   "cell_type": "code",
   "execution_count": 52,
   "metadata": {},
   "outputs": [
    {
     "name": "stdout",
     "output_type": "stream",
     "text": [
      "Enter a username: Batman\n",
      "Enter a password: I am Batman\n",
      "Welcome\n"
     ]
    }
   ],
   "source": [
    "username = input(\"Enter a username: \")\n",
    "password = input(\"Enter a password: \")\n",
    "\n",
    "while username == \"Batman\" and password == \"I am Batman\":\n",
    "    print(\"Welcome\")\n",
    "    break\n",
    "\n",
    "    "
   ]
  },
  {
   "cell_type": "code",
   "execution_count": 55,
   "metadata": {},
   "outputs": [
    {
     "data": {
      "text/plain": [
       "[[0, 0, 0, 0], [0, 0, 0, 0], [0, 0, 0, 0], [0, 0, 0, 0]]"
      ]
     },
     "execution_count": 55,
     "metadata": {},
     "output_type": "execute_result"
    }
   ],
   "source": [
    "m = 4\n",
    "n = 4\n",
    "a = [[0 for i in range(m)] for i in range(n)]\n",
    "a"
   ]
  },
  {
   "cell_type": "code",
   "execution_count": 56,
   "metadata": {},
   "outputs": [
    {
     "data": {
      "text/plain": [
       "[[1, 2, 2, 2], [2, 1, 2, 2], [2, 2, 1, 2], [2, 2, 2, 1]]"
      ]
     },
     "execution_count": 56,
     "metadata": {},
     "output_type": "execute_result"
    }
   ],
   "source": [
    "a1 = [[2 for i in range(m)] for i in range(n)]\n",
    "a1[0][0] = 1\n",
    "a1[1][1] = 1\n",
    "a1[2][2] = 1\n",
    "a1[3][3] = 1\n",
    "a1"
   ]
  },
  {
   "cell_type": "markdown",
   "metadata": {},
   "source": [
    "Extra 1"
   ]
  },
  {
   "cell_type": "code",
   "execution_count": 47,
   "metadata": {},
   "outputs": [
    {
     "name": "stdout",
     "output_type": "stream",
     "text": [
      "Enter a password: akfauyfafk\n",
      "Not valid ! It should contain at least on uppercase letter between [A-Z]\n",
      "Enter a password: Askfbwlefb\n",
      "Not valid ! It should contain at least one letter between [1-9]\n",
      "Enter a password: Aksfleg15\n",
      "Password is valid\n"
     ]
    }
   ],
   "source": [
    "import re \n",
    "#A regular expression (or RE) specifies a set of strings that matches it; the functions in this \n",
    "# module let you check if a particular string matches a given regular expression \n",
    "#(or if a given regular expression matches a particular string, which comes down to the same thing).\n",
    "\n",
    "while True:\n",
    "    user_input = input(\"Enter a password: \")\n",
    "    is_valid = False \n",
    "    if (len(user_input)<8):\n",
    "        print(\"Not valid ! Total characters should be at least 8\")\n",
    "        continue\n",
    "    elif not re.search(\"[A-Z]\",user_input): \n",
    "#re.search(pattern, string, flags=0) Scan through string looking for the first location \n",
    "# where the regular expression pattern produces a match.\n",
    "        print(\"Not valid ! It should contain at least on uppercase letter between [A-Z]\")\n",
    "        continue\n",
    "    elif not re.search(\"[1-9]\",user_input):\n",
    "        print(\"Not valid ! It should contain at least one letter between [1-9]\")\n",
    "        continue\n",
    "    else:\n",
    "        is_valid = True\n",
    "        break\n",
    "if(is_valid):\n",
    "    print(\"Password is valid\")"
   ]
  },
  {
   "cell_type": "code",
   "execution_count": null,
   "metadata": {},
   "outputs": [],
   "source": []
  },
  {
   "cell_type": "markdown",
   "metadata": {},
   "source": [
    "Extra 2"
   ]
  },
  {
   "cell_type": "code",
   "execution_count": 49,
   "metadata": {},
   "outputs": [
    {
     "name": "stdout",
     "output_type": "stream",
     "text": [
      "Enter a non-negative integer to take the factorial of: 10\n",
      "3628800\n"
     ]
    }
   ],
   "source": [
    "number = input(\"Enter a non-negative integer to take the factorial of: \")\n",
    "\n",
    "count = 1\n",
    "for i in range(int(number)):\n",
    "    count = count*(i + 1)\n",
    "print(count)"
   ]
  },
  {
   "cell_type": "code",
   "execution_count": null,
   "metadata": {},
   "outputs": [],
   "source": []
  },
  {
   "cell_type": "code",
   "execution_count": null,
   "metadata": {},
   "outputs": [],
   "source": []
  },
  {
   "cell_type": "code",
   "execution_count": null,
   "metadata": {},
   "outputs": [],
   "source": []
  }
 ],
 "metadata": {
  "kernelspec": {
   "display_name": "Python 3",
   "language": "python",
   "name": "python3"
  },
  "language_info": {
   "codemirror_mode": {
    "name": "ipython",
    "version": 3
   },
   "file_extension": ".py",
   "mimetype": "text/x-python",
   "name": "python",
   "nbconvert_exporter": "python",
   "pygments_lexer": "ipython3",
   "version": "3.6.5"
  }
 },
 "nbformat": 4,
 "nbformat_minor": 2
}
