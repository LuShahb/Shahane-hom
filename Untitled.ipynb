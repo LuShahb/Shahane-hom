{
 "cells": [
  {
   "cell_type": "code",
   "execution_count": null,
   "metadata": {},
   "outputs": [],
   "source": []
  },
  {
   "cell_type": "code",
   "execution_count": 4,
   "metadata": {},
   "outputs": [
    {
     "name": "stdout",
     "output_type": "stream",
     "text": [
      "Enter a username: Batfyu\n",
      "Access denied(incorrect username or password): \n",
      "Enter a username: Batman\n",
      "Enter a password: I am Bat\n",
      "Access denied(incorrect username or password): \n",
      "Enter a username: Batman\n",
      "Enter a password: I am Batman\n",
      "Welcome\n"
     ]
    }
   ],
   "source": [
    "username = \"Batman\"\n",
    "password = \"I am Batman\"\n",
    "\n",
    "while True:\n",
    "    input_username = input(\"Enter a username: \")\n",
    "    \n",
    "    if input_username == username:\n",
    "        input_password = input(\"Enter a password: \")\n",
    "        if input_password == password:\n",
    "            print(\"Welcome\")\n",
    "            break\n",
    "        else:\n",
    "            print(\"Access denied(incorrect username or password): \")\n",
    "    else:\n",
    "        print(\"Access denied(incorrect username or password): \")\n",
    "    "
   ]
  },
  {
   "cell_type": "code",
   "execution_count": null,
   "metadata": {},
   "outputs": [],
   "source": []
  },
  {
   "cell_type": "code",
   "execution_count": null,
   "metadata": {
    "scrolled": true
   },
   "outputs": [],
   "source": []
  },
  {
   "cell_type": "code",
   "execution_count": null,
   "metadata": {},
   "outputs": [],
   "source": []
  }
 ],
 "metadata": {
  "kernelspec": {
   "display_name": "Python 3",
   "language": "python",
   "name": "python3"
  },
  "language_info": {
   "codemirror_mode": {
    "name": "ipython",
    "version": 3
   },
   "file_extension": ".py",
   "mimetype": "text/x-python",
   "name": "python",
   "nbconvert_exporter": "python",
   "pygments_lexer": "ipython3",
   "version": "3.6.5"
  }
 },
 "nbformat": 4,
 "nbformat_minor": 2
}
