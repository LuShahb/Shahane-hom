{
 "cells": [
  {
   "cell_type": "markdown",
   "metadata": {},
   "source": [
    "Variables"
   ]
  },
  {
   "cell_type": "code",
   "execution_count": 9,
   "metadata": {},
   "outputs": [
    {
     "name": "stdout",
     "output_type": "stream",
     "text": [
      "project:  cake\n",
      "difficulty:  5\n",
      "ingridients:  ['flour', 'butter', 'sugar', 'eggs', 'cocoa powder', 'baking powder']\n"
     ]
    }
   ],
   "source": [
    "project = \"cake\"\n",
    "difficulty = 5\n",
    "ingredients = [\"flour\",\"butter\", \"sugar\", \"eggs\", \"cocoa powder\", \"baking powder\"]\n",
    "print(\"project: \", project)\n",
    "print(\"difficulty: \",  difficulty)\n",
    "print(\"ingridients: \", ingredients)"
   ]
  },
  {
   "cell_type": "code",
   "execution_count": 12,
   "metadata": {},
   "outputs": [
    {
     "name": "stdout",
     "output_type": "stream",
     "text": [
      "False\n"
     ]
    },
    {
     "data": {
      "text/plain": [
       "['flour', 'butter', 'sugar', 'eggs', 'cocoa powder', 'baking powder']"
      ]
     },
     "execution_count": 12,
     "metadata": {},
     "output_type": "execute_result"
    }
   ],
   "source": [
    "print(\"apples\" in ingredients)\n",
    "ingredients"
   ]
  },
  {
   "cell_type": "code",
   "execution_count": 13,
   "metadata": {},
   "outputs": [
    {
     "name": "stdout",
     "output_type": "stream",
     "text": [
      "True\n"
     ]
    },
    {
     "data": {
      "text/plain": [
       "['flour', 'butter', 'sugar', 'eggs', 'cocoa powder', 'baking powder']"
      ]
     },
     "execution_count": 13,
     "metadata": {},
     "output_type": "execute_result"
    }
   ],
   "source": [
    "print(\"butter\" in ingredients)\n",
    "ingredients"
   ]
  },
  {
   "cell_type": "code",
   "execution_count": 14,
   "metadata": {},
   "outputs": [
    {
     "name": "stdout",
     "output_type": "stream",
     "text": [
      "eggs\n"
     ]
    },
    {
     "data": {
      "text/plain": [
       "['flour', 'butter', 'sugar', 'eggs', 'cocoa powder', 'baking powder']"
      ]
     },
     "execution_count": 14,
     "metadata": {},
     "output_type": "execute_result"
    }
   ],
   "source": [
    "print(\"eggs\" or \"margarin\" in ingridients)\n",
    "ingredients"
   ]
  },
  {
   "cell_type": "code",
   "execution_count": 15,
   "metadata": {},
   "outputs": [
    {
     "name": "stdout",
     "output_type": "stream",
     "text": [
      "False\n"
     ]
    },
    {
     "data": {
      "text/plain": [
       "['flour', 'butter', 'sugar', 'eggs', 'cocoa powder', 'baking powder']"
      ]
     },
     "execution_count": 15,
     "metadata": {},
     "output_type": "execute_result"
    }
   ],
   "source": [
    "print(\"eggs\" and \"margarine\" in ingredients)\n",
    "ingredients"
   ]
  },
  {
   "cell_type": "code",
   "execution_count": 19,
   "metadata": {},
   "outputs": [
    {
     "data": {
      "text/plain": [
       "int"
      ]
     },
     "execution_count": 19,
     "metadata": {},
     "output_type": "execute_result"
    }
   ],
   "source": [
    "flour = 175\n",
    "butter = 175\n",
    "sugar = \"100g\"\n",
    "eggs = 2\n",
    "cocoa_powder = \"1ts\"\n",
    "baking_powder = 0.5\n",
    "type(flour)\n"
   ]
  },
  {
   "cell_type": "code",
   "execution_count": 20,
   "metadata": {},
   "outputs": [
    {
     "data": {
      "text/plain": [
       "int"
      ]
     },
     "execution_count": 20,
     "metadata": {},
     "output_type": "execute_result"
    }
   ],
   "source": [
    "type(butter)\n"
   ]
  },
  {
   "cell_type": "code",
   "execution_count": 21,
   "metadata": {},
   "outputs": [
    {
     "data": {
      "text/plain": [
       "str"
      ]
     },
     "execution_count": 21,
     "metadata": {},
     "output_type": "execute_result"
    }
   ],
   "source": [
    "type(sugar)\n"
   ]
  },
  {
   "cell_type": "code",
   "execution_count": 22,
   "metadata": {},
   "outputs": [
    {
     "data": {
      "text/plain": [
       "int"
      ]
     },
     "execution_count": 22,
     "metadata": {},
     "output_type": "execute_result"
    }
   ],
   "source": [
    "type(eggs)\n"
   ]
  },
  {
   "cell_type": "code",
   "execution_count": 23,
   "metadata": {},
   "outputs": [
    {
     "data": {
      "text/plain": [
       "str"
      ]
     },
     "execution_count": 23,
     "metadata": {},
     "output_type": "execute_result"
    }
   ],
   "source": [
    "type(cocoa_powder)\n"
   ]
  },
  {
   "cell_type": "code",
   "execution_count": 24,
   "metadata": {},
   "outputs": [
    {
     "data": {
      "text/plain": [
       "float"
      ]
     },
     "execution_count": 24,
     "metadata": {},
     "output_type": "execute_result"
    }
   ],
   "source": [
    "type(baking_powder)"
   ]
  },
  {
   "cell_type": "code",
   "execution_count": 26,
   "metadata": {},
   "outputs": [
    {
     "name": "stdout",
     "output_type": "stream",
     "text": [
      "flour:  175\n",
      "butter:  175\n",
      "sugar:  100g\n",
      "eggs:  2\n",
      "cocoa_powder:  1ts\n",
      "baking_powder:  0.5\n"
     ]
    }
   ],
   "source": [
    "print(\"flour: \", flour)\n",
    "print(\"butter: \", butter)\n",
    "print(\"sugar: \", sugar)\n",
    "print(\"eggs: \", eggs)\n",
    "print(\"cocoa_powder: \", cocoa_powder)\n",
    "print(\"baking_powder: \", baking_powder)\n"
   ]
  },
  {
   "cell_type": "markdown",
   "metadata": {},
   "source": [
    "Operators"
   ]
  },
  {
   "cell_type": "code",
   "execution_count": 1,
   "metadata": {},
   "outputs": [
    {
     "name": "stdout",
     "output_type": "stream",
     "text": [
      "1003.0\n"
     ]
    }
   ],
   "source": [
    "a = 15\n",
    "b = 8\n",
    "c = 2\n",
    "print(5*(a**2) - (a*b) + (a%2) - (a/5))"
   ]
  },
  {
   "cell_type": "code",
   "execution_count": 2,
   "metadata": {},
   "outputs": [
    {
     "name": "stdout",
     "output_type": "stream",
     "text": [
      "852\n"
     ]
    }
   ],
   "source": [
    "print((b**3) + 3*a*b -(10*c))"
   ]
  },
  {
   "cell_type": "code",
   "execution_count": 39,
   "metadata": {},
   "outputs": [],
   "source": [
    "import datetime\n",
    "import time\n",
    "import calendar\n"
   ]
  },
  {
   "cell_type": "code",
   "execution_count": 43,
   "metadata": {},
   "outputs": [
    {
     "name": "stdout",
     "output_type": "stream",
     "text": [
      "Date today:  2018-09-26\n",
      "B-Day:  1988-05-16\n",
      "Year:  1988\n",
      "Month:  5\n",
      "Day:  16\n",
      "Day of the week (version 0):  1\n",
      "Days left till next B-Day:  232 days, 0:00:00\n"
     ]
    }
   ],
   "source": [
    "import datetime\n",
    "b_day_data = datetime.date(1988, 5, 16)\n",
    "tday = datetime.date.today()\n",
    "b_day = datetime.date(2019,5,16)\n",
    "till_b_day = b_day - tday\n",
    "print(\"Date today: \", tday)\n",
    "print(\"B-Day: \" , b_day_data)\n",
    "print(\"Year: \", b_day_data.year)\n",
    "print(\"Month: \", b_day_data.month)\n",
    "print(\"Day: \", b_day_data.day)\n",
    "print('Day of the week (version 0): ', b_day_data.isoweekday())\n",
    "print(\"Days left till next B-Day: \", till_b_day)\n"
   ]
  },
  {
   "cell_type": "code",
   "execution_count": 45,
   "metadata": {},
   "outputs": [
    {
     "name": "stdout",
     "output_type": "stream",
     "text": [
      "The calendar for May/2017: \n",
      "      May 2017\n",
      "Mo Tu We Th Fr Sa Su\n",
      " 1  2  3  4  5  6  7\n",
      " 8  9 10 11 12 13 14\n",
      "15 16 17 18 19 20 21\n",
      "22 23 24 25 26 27 28\n",
      "29 30 31\n",
      "\n"
     ]
    }
   ],
   "source": [
    "cal_2017 = calendar.month(2017, 5)\n",
    "print(\"The calendar for May/2017: \")\n",
    "print(cal_2017)"
   ]
  },
  {
   "cell_type": "code",
   "execution_count": 75,
   "metadata": {},
   "outputs": [
    {
     "name": "stdout",
     "output_type": "stream",
     "text": [
      "Yesterday was:  2018-09-25 Now is:  20:04:54.181931\n"
     ]
    }
   ],
   "source": [
    "dt_yes = datetime.date(2018,9,25)\n",
    "date_time_now = datetime.datetime.now()\n",
    "print(\"Yesterday was: \", dt_yes , \"Now is: \", time_now.time())\n"
   ]
  },
  {
   "cell_type": "code",
   "execution_count": 81,
   "metadata": {},
   "outputs": [
    {
     "name": "stdout",
     "output_type": "stream",
     "text": [
      "Yesterday was:  2018-09-25 Now is:  20:04:54.181931\n",
      "+ 2 days:  2018-09-27\n"
     ]
    }
   ],
   "source": [
    "dt_yes = datetime.date(2018,9,25)\n",
    "date_time_now = datetime.datetime.now()\n",
    "tdelta = datetime.timedelta(days = 2)\n",
    "print(\"Yesterday was: \", dt_yes  , \"Now is: \", time_now.time())\n",
    "print(\"+ 2 days: \", dt_yes + tdelta)\n"
   ]
  },
  {
   "cell_type": "code",
   "execution_count": 84,
   "metadata": {},
   "outputs": [
    {
     "name": "stdout",
     "output_type": "stream",
     "text": [
      "Yesterday was:  2018-09-25 Now is:  20:04:54.181931\n",
      "- 3 days:  2018-09-22\n"
     ]
    }
   ],
   "source": [
    "dt_yes = datetime.date(2018,9,25)\n",
    "date_time_now = datetime.datetime.now()\n",
    "tdelta = datetime.timedelta(days = 3)\n",
    "print(\"Yesterday was: \", dt_yes  , \"Now is: \", time_now.time())\n",
    "print(\"- 3 days: \", dt_yes - tdelta)"
   ]
  },
  {
   "cell_type": "code",
   "execution_count": null,
   "metadata": {},
   "outputs": [],
   "source": []
  }
 ],
 "metadata": {
  "kernelspec": {
   "display_name": "Python 3",
   "language": "python",
   "name": "python3"
  },
  "language_info": {
   "codemirror_mode": {
    "name": "ipython",
    "version": 3
   },
   "file_extension": ".py",
   "mimetype": "text/x-python",
   "name": "python",
   "nbconvert_exporter": "python",
   "pygments_lexer": "ipython3",
   "version": "3.6.5"
  }
 },
 "nbformat": 4,
 "nbformat_minor": 2
}
